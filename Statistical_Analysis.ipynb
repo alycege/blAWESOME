{
 "cells": [
  {
   "cell_type": "code",
   "execution_count": 1,
   "metadata": {
    "collapsed": true
   },
   "outputs": [],
   "source": [
    "import numpy as np\n",
    "import pandas as pd\n",
    "import matplotlib.pyplot as plt\n",
    "import itertools as itls\n",
    "import scipy.stats as stats\n",
    "import sklearn.utils\n",
    "import random\n",
    "from sklearn.model_selection import train_test_split\n",
    "from sklearn.linear_model import LinearRegression"
   ]
  },
  {
   "cell_type": "code",
   "execution_count": 2,
   "metadata": {
    "collapsed": true
   },
   "outputs": [],
   "source": [
    "def collector(name, org, path):\n",
    "    titles = ['Query', 'SwissProt', 'Score']\n",
    "    \n",
    "    collection = []\n",
    "    collection2 = []    \n",
    "    \n",
    "    c_45 = pd.read_csv(path + name + '/' + org + '_close45_2.csv',',',names=titles)\n",
    "    collection.append(c_45)\n",
    "    \n",
    "    d_45 = pd.read_csv(path + name + '/' + org + '_distal45_2.csv',',',names=titles)\n",
    "    collection2.append(d_45)\n",
    "    \n",
    "    c_50 = pd.read_csv(path + name + '/' + org + '_close50_2.csv',',',names=titles)\n",
    "    collection.append(c_50)\n",
    "    \n",
    "    d_50 = pd.read_csv(path + name + '/' + org + '_distal50_2.csv',',',names=titles)\n",
    "    collection2.append(d_50)\n",
    "    \n",
    "    c_62 = pd.read_csv(path + name + '/' + org + '_close62_2.csv',',',names=titles)\n",
    "    collection.append(c_62)\n",
    "    \n",
    "    d_62 = pd.read_csv(path + name + '/' + org + '_distal62_2.csv',',',names=titles)\n",
    "    collection2.append(d_62)\n",
    "    \n",
    "    c_80 = pd.read_csv(path + name + '/' + org + '_close80_2.csv',',',names=titles)\n",
    "    collection.append(c_80)\n",
    "    \n",
    "    d_80 = pd.read_csv(path + name + '/' + org + '_distal80_2.csv',',',names=titles)\n",
    "    collection2.append(d_80)\n",
    "    \n",
    "    c_90 = pd.read_csv(path + name + '/' + org + '_close90_2.csv',',',names=titles)\n",
    "    collection.append(c_90)\n",
    "    \n",
    "    d_90 = pd.read_csv(path + name + '/' + org + '_distal90_2.csv',',',names=titles)\n",
    "    collection2.append(d_90)\n",
    "    \n",
    "    return collection, collection2"
   ]
  },
  {
   "cell_type": "code",
   "execution_count": 3,
   "metadata": {
    "collapsed": true
   },
   "outputs": [],
   "source": [
    "c_rfelis, d_rfelis = collector('Rfelis','rf', '/home/cg2721/Data Analysis/')\n",
    "c_ecoli, d_ecoli = collector('Ecoli','ec', '/home/cg2721/Data Analysis/')\n",
    "c_mtb, d_mtb = collector('Mtb','mt', '/home/cg2721/Data Analysis/')"
   ]
  },
  {
   "cell_type": "code",
   "execution_count": 4,
   "metadata": {
    "collapsed": true
   },
   "outputs": [],
   "source": [
    "#Find the differences between the close and distal scores for each organism\n",
    "def differences(close, distal):\n",
    "    diffs = []\n",
    "    \n",
    "    #Evaluate for BLOSUMX \n",
    "    for x in range(5):\n",
    "        cx = close[x]\n",
    "        dx = distal[x]\n",
    "        cx75 = cx.quantile(.75).max() #Close max score\n",
    "        dx75 = dx.quantile(.75).max() #Distal max score\n",
    "        \n",
    "        top75_c = [] \n",
    "        top75_d = []\n",
    "        cxs = cx['Score'].tolist()\n",
    "        dxs = dx['Score'].tolist()\n",
    "        \n",
    "        for s in cxs:\n",
    "            if s <= cx75:\n",
    "                top75_c.append(s)\n",
    "        for s in dxs:\n",
    "            if s <= dx75:\n",
    "                top75_d.append(s)\n",
    "        \n",
    "        #Make a new list of close scores subsampled to be the same size as the distal\n",
    "        temp = []\n",
    "        sklearn.utils.shuffle(top75_c)\n",
    "        random.seed()\n",
    "        m = len(top75_d)\n",
    "        for i in range(m):\n",
    "            index = random.randrange(len(top75_c))\n",
    "            temp.append(top75_c[index])\n",
    "        top75_c = temp\n",
    "        \n",
    "        diffx = [top75_c[i] - top75_d[i] for i in range(m)]\n",
    "        \n",
    "        diffs.append(diffx)\n",
    "    \n",
    "    return diffs"
   ]
  },
  {
   "cell_type": "code",
   "execution_count": 5,
   "metadata": {
    "collapsed": true
   },
   "outputs": [],
   "source": [
    "rf_diffs = differences(c_rfelis, d_rfelis)\n",
    "ec_diffs = differences(c_ecoli, d_ecoli)\n",
    "mt_diffs = differences(c_mtb, d_mtb)"
   ]
  },
  {
   "cell_type": "code",
   "execution_count": 6,
   "metadata": {
    "collapsed": true
   },
   "outputs": [],
   "source": [
    "# splitting training & testing\n",
    "\n",
    "c_rfelis_train = []\n",
    "c_rfelis_test = []\n",
    "c_ecoli_train = []\n",
    "c_ecoli_test = []\n",
    "c_mtb_train = []\n",
    "c_mtb_test = []\n",
    "\n",
    "d_rfelis_train = []\n",
    "d_rfelis_test = []\n",
    "d_ecoli_train = []\n",
    "d_ecoli_test = []\n",
    "d_mtb_train = []\n",
    "d_mtb_test = []\n",
    "\n",
    "for i in range(5):\n",
    "    c_train, c_test = train_test_split(c_rfelis[i], test_size=.3)\n",
    "    c_rfelis_train.append(c_train)\n",
    "    c_rfelis_test.append(c_test)\n",
    "    \n",
    "    d_train, d_test = train_test_split(d_rfelis[i], test_size=.3)\n",
    "    d_rfelis_train.append(d_train)\n",
    "    d_rfelis_test.append(d_test)\n",
    "    \n",
    "    c_train, c_test = train_test_split(c_ecoli[i], test_size=.3)\n",
    "    c_ecoli_train.append(c_train)\n",
    "    c_ecoli_test.append(c_test)\n",
    "    \n",
    "    d_train, d_test = train_test_split(d_ecoli[i], test_size=.3)\n",
    "    d_ecoli_train.append(d_train)\n",
    "    d_ecoli_test.append(d_test)\n",
    "    \n",
    "    c_train, c_test = train_test_split(c_mtb[i], test_size=.3)\n",
    "    c_mtb_train.append(c_train)\n",
    "    c_mtb_test.append(c_test)\n",
    "    \n",
    "    d_train, d_test = train_test_split(d_mtb[i], test_size=.3)\n",
    "    d_mtb_train.append(d_train)\n",
    "    d_mtb_test.append(d_test)"
   ]
  },
  {
   "cell_type": "code",
   "execution_count": 7,
   "metadata": {
    "collapsed": true
   },
   "outputs": [],
   "source": [
    "#Perform kruskal analysis on the training data\n",
    "#st, p = stats.kruskal(rf_diffs[3], ec_diffs[3])\n",
    "#print (p)"
   ]
  },
  {
   "cell_type": "code",
   "execution_count": 8,
   "metadata": {
    "collapsed": true
   },
   "outputs": [],
   "source": [
    "rfc_avgs_train = [np.mean(c_rfelis_train[i]['Score'].tolist()) for i in range(5)]\n",
    "rfd_avgs_train = [np.mean(d_rfelis_train[i]['Score'].tolist()) for i in range(5)]\n",
    "ecc_avgs_train = [np.mean(c_ecoli_train[i]['Score'].tolist()) for i in range(5)]\n",
    "ecd_avgs_train = [np.mean(d_ecoli_train[i]['Score'].tolist()) for i in range(5)]\n",
    "mtc_avgs_train = [np.mean(c_mtb_train[i]['Score'].tolist()) for i in range(5)]\n",
    "mtd_avgs_train = [np.mean(d_mtb_train[i]['Score'].tolist()) for i in range(5)]"
   ]
  },
  {
   "cell_type": "code",
   "execution_count": 9,
   "metadata": {
    "collapsed": true
   },
   "outputs": [],
   "source": [
    "rf_diff_avgs_train = [rfc_avgs_train[i] - rfd_avgs_train[i] for i in range(5)]\n",
    "ec_diff_avgs_train = [ecc_avgs_train[i] - ecd_avgs_train[i] for i in range(5)]\n",
    "mt_diff_avgs_train = [mtc_avgs_train[i] - mtd_avgs_train[i] for i in range(5)]"
   ]
  },
  {
   "cell_type": "code",
   "execution_count": 10,
   "metadata": {},
   "outputs": [
    {
     "name": "stdout",
     "output_type": "stream",
     "text": [
      "R.felis differences: [220.18957977163058, 216.58931576811275, 223.98647182423838, 236.06529331473095, 232.92129620044193]\n",
      "E.coli differences: [289.6026640198411, 285.50371126301786, 291.6987378954384, 305.39607231871975, 303.9524190750079]\n",
      "M.tb differences: [139.5519753622341, 139.47384859645257, 139.84970992076882, 146.96835089299117, 144.61688210532097]\n"
     ]
    }
   ],
   "source": [
    "print('R.felis differences: {}'.format(rf_diff_avgs_train))\n",
    "print('E.coli differences: {}'.format(ec_diff_avgs_train))\n",
    "print('M.tb differences: {}'.format(mt_diff_avgs_train))"
   ]
  },
  {
   "cell_type": "code",
   "execution_count": 11,
   "metadata": {
    "collapsed": true
   },
   "outputs": [],
   "source": [
    "# Testing data (30%)"
   ]
  },
  {
   "cell_type": "code",
   "execution_count": 12,
   "metadata": {
    "collapsed": true
   },
   "outputs": [],
   "source": [
    "rfc_avgs_test = [np.mean(c_rfelis_test[i]['Score'].tolist()) for i in range(5)]\n",
    "rfd_avgs_test = [np.mean(d_rfelis_test[i]['Score'].tolist()) for i in range(5)]\n",
    "ecc_avgs_test = [np.mean(c_ecoli_test[i]['Score'].tolist()) for i in range(5)]\n",
    "ecd_avgs_test = [np.mean(d_ecoli_test[i]['Score'].tolist()) for i in range(5)]\n",
    "mtc_avgs_test = [np.mean(c_mtb_test[i]['Score'].tolist()) for i in range(5)]\n",
    "mtd_avgs_test = [np.mean(d_mtb_test[i]['Score'].tolist()) for i in range(5)]"
   ]
  },
  {
   "cell_type": "code",
   "execution_count": 13,
   "metadata": {
    "collapsed": true
   },
   "outputs": [],
   "source": [
    "rf_diff_avgs_test = [rfc_avgs_test[i] - rfd_avgs_test[i] for i in range(5)]\n",
    "ec_diff_avgs_test = [ecc_avgs_test[i] - ecd_avgs_test[i] for i in range(5)]\n",
    "mt_diff_avgs_test = [mtc_avgs_test[i] - mtd_avgs_test[i] for i in range(5)]"
   ]
  },
  {
   "cell_type": "code",
   "execution_count": 15,
   "metadata": {},
   "outputs": [
    {
     "name": "stdout",
     "output_type": "stream",
     "text": [
      "R.felis differences: [223.7528695147949, 217.7568750883488, 223.94798363328806, 231.38334067760826, 236.67798350094728]\n",
      "E.coli differences: [291.8143529783455, 284.52059647568205, 292.9379522152405, 303.94054610964224, 308.96918038380306]\n",
      "M.tb differences: [138.8576259955364, 138.4337656337375, 141.6933251095912, 146.72007552420624, 147.2762200169402]\n"
     ]
    }
   ],
   "source": [
    "print('R.felis differences: {}'.format(rf_diff_avgs_test))\n",
    "print('E.coli differences: {}'.format(ec_diff_avgs_test))\n",
    "print('M.tb differences: {}'.format(mt_diff_avgs_test))"
   ]
  },
  {
   "cell_type": "code",
   "execution_count": null,
   "metadata": {
    "collapsed": true
   },
   "outputs": [],
   "source": []
  }
 ],
 "metadata": {
  "kernelspec": {
   "display_name": "Python 3",
   "language": "python",
   "name": "python3"
  },
  "language_info": {
   "codemirror_mode": {
    "name": "ipython",
    "version": 3
   },
   "file_extension": ".py",
   "mimetype": "text/x-python",
   "name": "python",
   "nbconvert_exporter": "python",
   "pygments_lexer": "ipython3",
   "version": "3.6.3"
  }
 },
 "nbformat": 4,
 "nbformat_minor": 2
}
